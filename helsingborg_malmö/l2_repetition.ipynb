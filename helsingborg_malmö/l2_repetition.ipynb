{
 "cells": [
  {
   "cell_type": "markdown",
   "id": "d43003ad",
   "metadata": {},
   "source": [
    "# Repetition"
   ]
  },
  {
   "cell_type": "code",
   "execution_count": 1,
   "id": "9af6408f",
   "metadata": {},
   "outputs": [
    {
     "name": "stdout",
     "output_type": "stream",
     "text": [
      "['c', 'f', 10, 12, 'Kalle']\n"
     ]
    }
   ],
   "source": [
    "# Listor\n",
    "my_list = ['c', 'f', 10, 12, 'Kalle']\n",
    "print(my_list)"
   ]
  },
  {
   "cell_type": "code",
   "execution_count": 2,
   "id": "fb981675",
   "metadata": {},
   "outputs": [
    {
     "name": "stdout",
     "output_type": "stream",
     "text": [
      "c\n",
      "Kalle\n"
     ]
    }
   ],
   "source": [
    "print(my_list[0])\n",
    "print(my_list[-1])"
   ]
  },
  {
   "cell_type": "code",
   "execution_count": 3,
   "id": "50fb4a1b",
   "metadata": {},
   "outputs": [
    {
     "name": "stdout",
     "output_type": "stream",
     "text": [
      "c\n",
      "f\n",
      "10\n",
      "12\n",
      "Kalle\n"
     ]
    }
   ],
   "source": [
    "for i in my_list:\n",
    "    print(i)"
   ]
  },
  {
   "cell_type": "code",
   "execution_count": 4,
   "id": "b0712621",
   "metadata": {},
   "outputs": [
    {
     "data": {
      "text/plain": [
       "(15, 5)"
      ]
     },
     "execution_count": 4,
     "metadata": {},
     "output_type": "execute_result"
    }
   ],
   "source": [
    "def add_subtract(x, y):\n",
    "    return(x+y, x-y)\n",
    "\n",
    "add_subtract(10, 5)"
   ]
  },
  {
   "cell_type": "code",
   "execution_count": 8,
   "id": "1732fec3",
   "metadata": {},
   "outputs": [
    {
     "data": {
      "text/plain": [
       "int"
      ]
     },
     "execution_count": 8,
     "metadata": {},
     "output_type": "execute_result"
    }
   ],
   "source": [
    "type('c')\n",
    "type(10)"
   ]
  },
  {
   "cell_type": "code",
   "execution_count": 10,
   "id": "a7806bb1",
   "metadata": {},
   "outputs": [
    {
     "data": {
      "text/plain": [
       "'BondJames :)'"
      ]
     },
     "execution_count": 10,
     "metadata": {},
     "output_type": "execute_result"
    }
   ],
   "source": [
    "'10' + '5'\n",
    "'Bond' + 'James :)'"
   ]
  },
  {
   "cell_type": "markdown",
   "id": "5cd6afd2",
   "metadata": {},
   "source": [
    "# Classes :D "
   ]
  },
  {
   "cell_type": "code",
   "execution_count": 20,
   "id": "51d2720d",
   "metadata": {},
   "outputs": [],
   "source": [
    "class EcUtbildning:\n",
    "    def __init__(self, ådr, lgd):\n",
    "        if ådr < 50:\n",
    "            self.ålder = ådr\n",
    "        else:\n",
    "            self.ålder = 100\n",
    "        self.längd = lgd\n",
    "        \n",
    "    def lägg_till_betyg(self, betyg):\n",
    "        self.betyg = betyg"
   ]
  },
  {
   "cell_type": "code",
   "execution_count": 21,
   "id": "97a93d21",
   "metadata": {},
   "outputs": [
    {
     "name": "stdout",
     "output_type": "stream",
     "text": [
      "40\n",
      "100\n"
     ]
    }
   ],
   "source": [
    "umut = EcUtbildning(40, 180)\n",
    "print(umut.ålder)\n",
    "\n",
    "umut2 = EcUtbildning(90, 180)\n",
    "print(umut2.ålder)"
   ]
  },
  {
   "cell_type": "code",
   "execution_count": null,
   "id": "1806b972",
   "metadata": {},
   "outputs": [],
   "source": []
  },
  {
   "cell_type": "code",
   "execution_count": 19,
   "id": "85b5ba80",
   "metadata": {},
   "outputs": [
    {
     "name": "stdout",
     "output_type": "stream",
     "text": [
      "30\n",
      "185\n",
      "VG\n"
     ]
    }
   ],
   "source": [
    "# Vi har skapat en instans där attributet ålder = 30 och längd = 185\n",
    "fromberg = EcUtbildning(30, 185)\n",
    "\n",
    "print(fromberg.ålder)\n",
    "print(fromberg.längd)\n",
    "\n",
    "fromberg.lägg_till_betyg('VG')\n",
    "\n",
    "print(fromberg.betyg)"
   ]
  },
  {
   "cell_type": "code",
   "execution_count": 16,
   "id": "70be0dc4",
   "metadata": {},
   "outputs": [
    {
     "name": "stdout",
     "output_type": "stream",
     "text": [
      "50\n",
      "170\n"
     ]
    }
   ],
   "source": [
    "werecki = EcUtbildning(50, 170)\n",
    "\n",
    "print(werecki.ålder)\n",
    "print(werecki.längd)"
   ]
  },
  {
   "cell_type": "code",
   "execution_count": 22,
   "id": "237bb7cc",
   "metadata": {},
   "outputs": [
    {
     "name": "stdout",
     "output_type": "stream",
     "text": [
      "HELLO\n"
     ]
    }
   ],
   "source": [
    "def uppercase_converter(input_string):\n",
    "    # Use the upper() method to convert the string to uppercase\n",
    "    uppercase_string = input_string.upper()\n",
    "    return uppercase_string\n",
    "\n",
    "# Example usage:\n",
    "input_string = 'hello'\n",
    "result = uppercase_converter(input_string)\n",
    "print(result)  # Output will be '\n"
   ]
  },
  {
   "cell_type": "code",
   "execution_count": null,
   "id": "95755880",
   "metadata": {},
   "outputs": [],
   "source": []
  }
 ],
 "metadata": {
  "kernelspec": {
   "display_name": "Python 3 (ipykernel)",
   "language": "python",
   "name": "python3"
  },
  "language_info": {
   "codemirror_mode": {
    "name": "ipython",
    "version": 3
   },
   "file_extension": ".py",
   "mimetype": "text/x-python",
   "name": "python",
   "nbconvert_exporter": "python",
   "pygments_lexer": "ipython3",
   "version": "3.9.18"
  }
 },
 "nbformat": 4,
 "nbformat_minor": 5
}
