{
 "cells": [
  {
   "cell_type": "markdown",
   "id": "981efd43",
   "metadata": {},
   "source": [
    "# Repetition"
   ]
  },
  {
   "cell_type": "code",
   "execution_count": 5,
   "id": "d2934ee6",
   "metadata": {},
   "outputs": [
    {
     "name": "stdout",
     "output_type": "stream",
     "text": [
      "['d', 5, ':)', 76]\n",
      "d\n"
     ]
    }
   ],
   "source": [
    "# Listor\n",
    "my_list = ['d', 5, ':)', 76]\n",
    "print(my_list)\n",
    "print(my_list[0])"
   ]
  },
  {
   "cell_type": "code",
   "execution_count": 8,
   "id": "8e5db80c",
   "metadata": {},
   "outputs": [
    {
     "name": "stdout",
     "output_type": "stream",
     "text": [
      "d\n",
      "5\n",
      ":)\n",
      "76\n"
     ]
    }
   ],
   "source": [
    "# \n",
    "for i in my_list:\n",
    "    print(i)"
   ]
  },
  {
   "cell_type": "code",
   "execution_count": 3,
   "id": "157329d9",
   "metadata": {},
   "outputs": [
    {
     "name": "stdout",
     "output_type": "stream",
     "text": [
      "1\n",
      "2\n",
      "3\n",
      "4\n",
      "5\n"
     ]
    }
   ],
   "source": [
    "k = 0\n",
    "\n",
    "while k < 5:\n",
    "#     k = k + 1\n",
    "    k += 1\n",
    "    print(k)"
   ]
  },
  {
   "cell_type": "code",
   "execution_count": 4,
   "id": "49d15f40",
   "metadata": {},
   "outputs": [],
   "source": [
    "# Skapa funktioner\n",
    "\n",
    "def add_subtract(x, y):\n",
    "    return(x+y, x-y)"
   ]
  },
  {
   "cell_type": "code",
   "execution_count": 5,
   "id": "ef6340f4",
   "metadata": {},
   "outputs": [
    {
     "data": {
      "text/plain": [
       "(15, 5)"
      ]
     },
     "execution_count": 5,
     "metadata": {},
     "output_type": "execute_result"
    }
   ],
   "source": [
    "add_subtract(10, 5)"
   ]
  },
  {
   "cell_type": "code",
   "execution_count": 7,
   "id": "1732fe3a",
   "metadata": {},
   "outputs": [
    {
     "data": {
      "text/plain": [
       "(7, 3)"
      ]
     },
     "execution_count": 7,
     "metadata": {},
     "output_type": "execute_result"
    }
   ],
   "source": [
    "# Keyword arguments\n",
    "add_subtract(x = 10, y = 5)\n",
    "\n",
    "# Postional arguments\n",
    "add_subtract(5, 2)"
   ]
  },
  {
   "cell_type": "markdown",
   "id": "07cbe9c2",
   "metadata": {},
   "source": [
    "# Classes"
   ]
  },
  {
   "cell_type": "code",
   "execution_count": 27,
   "id": "0829c04e",
   "metadata": {},
   "outputs": [],
   "source": [
    "class EcUtbildning:\n",
    "    def __init__(self, ådr, nmn):\n",
    "        self.ålder = ådr\n",
    "        self.namn = nmn\n",
    "    \n",
    "    def add_grade(self, grade):\n",
    "        self.grade = grade"
   ]
  },
  {
   "cell_type": "code",
   "execution_count": 28,
   "id": "6a2a7c2b",
   "metadata": {},
   "outputs": [
    {
     "name": "stdout",
     "output_type": "stream",
     "text": [
      "99\n",
      "Antonio\n",
      "VG\n"
     ]
    }
   ],
   "source": [
    "# Skapa en instans\n",
    "elev_1 = EcUtbildning(99, 'Antonio')\n",
    "\n",
    "print(elev_1.ålder) # Attribut\n",
    "print(elev_1.namn)\n",
    "\n",
    "# Lägg till betyg\n",
    "elev_1.add_grade('VG')\n",
    "print(elev_1.grade)\n",
    "\n",
    "# Skapa en till instans\n",
    "# elev_2 = EcUtbildning(70, 'Zerjon')\n",
    "\n",
    "# print(elev_2.ålder)\n",
    "# print(elev_2.namn)"
   ]
  },
  {
   "cell_type": "code",
   "execution_count": 30,
   "id": "92759d0e",
   "metadata": {},
   "outputs": [],
   "source": [
    "# elev_3 = EcUtbildning()\n",
    "# elev_3.namn"
   ]
  },
  {
   "cell_type": "code",
   "execution_count": null,
   "id": "c5948dfa",
   "metadata": {},
   "outputs": [],
   "source": []
  },
  {
   "cell_type": "code",
   "execution_count": null,
   "id": "d7497a43",
   "metadata": {},
   "outputs": [],
   "source": []
  },
  {
   "cell_type": "code",
   "execution_count": 19,
   "id": "2750381f",
   "metadata": {},
   "outputs": [
    {
     "name": "stdout",
     "output_type": "stream",
     "text": [
      "{'ålder': 99, 'namn': 'Antonio'}\n"
     ]
    }
   ],
   "source": [
    "print(vars(elev_1))"
   ]
  }
 ],
 "metadata": {
  "kernelspec": {
   "display_name": "Python 3 (ipykernel)",
   "language": "python",
   "name": "python3"
  },
  "language_info": {
   "codemirror_mode": {
    "name": "ipython",
    "version": 3
   },
   "file_extension": ".py",
   "mimetype": "text/x-python",
   "name": "python",
   "nbconvert_exporter": "python",
   "pygments_lexer": "ipython3",
   "version": "3.9.18"
  }
 },
 "nbformat": 4,
 "nbformat_minor": 5
}
