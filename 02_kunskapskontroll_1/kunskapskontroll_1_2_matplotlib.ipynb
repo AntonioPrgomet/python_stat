{
 "cells": [
  {
   "cell_type": "markdown",
   "id": "eb49a753",
   "metadata": {},
   "source": [
    "# Matplotlib\n",
    "Read the tutorials: \"Basic Usage\" and \"Pyplot Tutorial\" in the link: https://matplotlib.org/stable/tutorials/index.html before solving the exercises below. The \"Pyplot Tutorial\" you do not read in detail but it is good to know about since the fact that there are two approaches to plotting can be confusing if you are not aware of both of the approaches."
   ]
  },
  {
   "cell_type": "code",
   "execution_count": null,
   "id": "9b1ffb1b",
   "metadata": {},
   "outputs": [],
   "source": [
    "import numpy as np\n",
    "import matplotlib.pyplot as plt"
   ]
  },
  {
   "cell_type": "markdown",
   "id": "35e4f6cd",
   "metadata": {},
   "source": [
    "### Plotting in Matplotlib can be done in either of two ways, which ones? Which way is the recommended approach?"
   ]
  },
  {
   "cell_type": "code",
   "execution_count": null,
   "id": "2db0fb3e",
   "metadata": {},
   "outputs": [],
   "source": []
  },
  {
   "cell_type": "markdown",
   "id": "00d119a1",
   "metadata": {},
   "source": [
    "### Explain shortly what a figure, axes, axis and an artist is in Matplotlib."
   ]
  },
  {
   "cell_type": "code",
   "execution_count": null,
   "id": "9b9fa05a",
   "metadata": {},
   "outputs": [],
   "source": []
  },
  {
   "cell_type": "markdown",
   "id": "986b324c",
   "metadata": {},
   "source": [
    "### When plotting in Matplotlib, what is the expected input data type?"
   ]
  },
  {
   "cell_type": "code",
   "execution_count": null,
   "id": "79a18b02",
   "metadata": {},
   "outputs": [],
   "source": []
  },
  {
   "cell_type": "markdown",
   "id": "8ff546a1",
   "metadata": {},
   "source": [
    "### Create a plot of the function y = x^2 [from -4 to 4, hint use the np.linspace function] both in the object-oriented approach and the pyplot approach. Your plot should have a title and axis-labels."
   ]
  },
  {
   "cell_type": "code",
   "execution_count": null,
   "id": "738b8a75",
   "metadata": {},
   "outputs": [],
   "source": []
  },
  {
   "cell_type": "markdown",
   "id": "f6313412",
   "metadata": {},
   "source": [
    "### Create a figure containing 2  subplots where the first is a scatter plot and the second is a bar plot. You have the data below. "
   ]
  },
  {
   "cell_type": "code",
   "execution_count": null,
   "id": "81b6723d",
   "metadata": {},
   "outputs": [],
   "source": [
    "# Data for scatter plot\n",
    "np.random.seed(15)\n",
    "random_data_x = np.random.randn(1000)\n",
    "random_data_y = np.random.randn(1000)\n",
    "x = np.linspace(-2, 2, 100)\n",
    "y = x**2\n",
    "\n",
    "# Data for bar plot\n",
    "fruit_data = {'grapes': 22, 'apple': 8, 'orange': 15, 'lemon': 20, 'lime': 25}\n",
    "names = list(fruit_data.keys())\n",
    "values = list(fruit_data.values())"
   ]
  },
  {
   "cell_type": "code",
   "execution_count": null,
   "id": "b84f15d0",
   "metadata": {},
   "outputs": [],
   "source": []
  }
 ],
 "metadata": {
  "kernelspec": {
   "display_name": "Python 3 (ipykernel)",
   "language": "python",
   "name": "python3"
  },
  "language_info": {
   "codemirror_mode": {
    "name": "ipython",
    "version": 3
   },
   "file_extension": ".py",
   "mimetype": "text/x-python",
   "name": "python",
   "nbconvert_exporter": "python",
   "pygments_lexer": "ipython3",
   "version": "3.9.17"
  }
 },
 "nbformat": 4,
 "nbformat_minor": 5
}
