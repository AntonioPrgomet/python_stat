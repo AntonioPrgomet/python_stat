{
 "cells": [
  {
   "cell_type": "markdown",
   "id": "9592a800",
   "metadata": {},
   "source": [
    "# Repetition"
   ]
  },
  {
   "cell_type": "code",
   "execution_count": 1,
   "id": "38c78d1d",
   "metadata": {},
   "outputs": [
    {
     "name": "stdout",
     "output_type": "stream",
     "text": [
      "['d', 10, 7, 'hej']\n"
     ]
    }
   ],
   "source": [
    "my_list = ['d', 10, 7, 'hej']\n",
    "print(my_list)"
   ]
  },
  {
   "cell_type": "code",
   "execution_count": 2,
   "id": "1d6d8ad6",
   "metadata": {},
   "outputs": [
    {
     "data": {
      "text/plain": [
       "'d'"
      ]
     },
     "execution_count": 2,
     "metadata": {},
     "output_type": "execute_result"
    }
   ],
   "source": [
    "my_list[0]"
   ]
  },
  {
   "cell_type": "code",
   "execution_count": 5,
   "id": "f86ca4ab",
   "metadata": {},
   "outputs": [
    {
     "name": "stdout",
     "output_type": "stream",
     "text": [
      "d\n",
      "10\n",
      "7\n",
      "hej\n"
     ]
    }
   ],
   "source": [
    "for i in my_list:\n",
    "    print(i)"
   ]
  },
  {
   "cell_type": "code",
   "execution_count": 6,
   "id": "ec8923a1",
   "metadata": {},
   "outputs": [],
   "source": [
    "# Skapar en funktion\n",
    "def add_and_subtract(x, y):\n",
    "    return(x+y, x-y)"
   ]
  },
  {
   "cell_type": "code",
   "execution_count": 7,
   "id": "3f8f4292",
   "metadata": {},
   "outputs": [
    {
     "data": {
      "text/plain": [
       "(15, 5)"
      ]
     },
     "execution_count": 7,
     "metadata": {},
     "output_type": "execute_result"
    }
   ],
   "source": [
    "add_and_subtract(10, 5)"
   ]
  },
  {
   "cell_type": "markdown",
   "id": "bcfc4740",
   "metadata": {},
   "source": [
    "# Classes"
   ]
  },
  {
   "cell_type": "code",
   "execution_count": 31,
   "id": "345cd57c",
   "metadata": {},
   "outputs": [],
   "source": [
    "# class EcUtbildning:\n",
    "#     def __init__(self, nmn, ådr):\n",
    "#         self.namn = nmn\n",
    "#         self.ålder = ådr\n",
    "        \n",
    "class EcUtbildning:\n",
    "    \n",
    "    region = 'stockholm'\n",
    "    \n",
    "    def __init__(self, namn, ålder, kön):\n",
    "        self.namn = namn  # self.namn = attribut, det attributet får argumentet namn\n",
    "        self.ålder = ålder\n",
    "        self.kön = kön\n",
    "        \n",
    "    def add_grade(self, betyg):  # Metod (som är en funktion i klasser)\n",
    "        self.betyg = betyg"
   ]
  },
  {
   "cell_type": "code",
   "execution_count": 32,
   "id": "a9a9a530",
   "metadata": {},
   "outputs": [
    {
     "name": "stdout",
     "output_type": "stream",
     "text": [
      "Marko\n",
      "33\n",
      "Man\n",
      "G\n",
      "stockholm\n"
     ]
    }
   ],
   "source": [
    "# Instans från klassen EcUtbildning\n",
    "elev_1 = EcUtbildning('Marko', 33, 'Man')\n",
    "\n",
    "print(elev_1.namn)\n",
    "print(elev_1.ålder)\n",
    "print(elev_1.kön)\n",
    "\n",
    "elev_1.add_grade('G')\n",
    "\n",
    "print(elev_1.betyg)\n",
    "\n",
    "print(elev_1.region)"
   ]
  },
  {
   "cell_type": "code",
   "execution_count": 33,
   "id": "0fc66f41",
   "metadata": {},
   "outputs": [
    {
     "name": "stdout",
     "output_type": "stream",
     "text": [
      "Bert\n",
      "12\n",
      "stockholm\n"
     ]
    }
   ],
   "source": [
    "elev_2 = EcUtbildning('Bert', 12, 'Kvinna')\n",
    "\n",
    "print(elev_2.namn)\n",
    "print(elev_2.ålder)\n",
    "print(elev_2.region)"
   ]
  },
  {
   "cell_type": "code",
   "execution_count": null,
   "id": "a57188de",
   "metadata": {},
   "outputs": [],
   "source": []
  }
 ],
 "metadata": {
  "kernelspec": {
   "display_name": "Python 3 (ipykernel)",
   "language": "python",
   "name": "python3"
  },
  "language_info": {
   "codemirror_mode": {
    "name": "ipython",
    "version": 3
   },
   "file_extension": ".py",
   "mimetype": "text/x-python",
   "name": "python",
   "nbconvert_exporter": "python",
   "pygments_lexer": "ipython3",
   "version": "3.9.18"
  }
 },
 "nbformat": 4,
 "nbformat_minor": 5
}
