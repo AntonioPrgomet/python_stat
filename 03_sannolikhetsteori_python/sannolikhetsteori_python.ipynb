{
 "cells": [
  {
   "cell_type": "markdown",
   "id": "d9760347",
   "metadata": {},
   "source": [
    "# Probability Theory in Python"
   ]
  },
  {
   "cell_type": "code",
   "execution_count": null,
   "id": "5b69b7c4",
   "metadata": {},
   "outputs": [],
   "source": [
    "import numpy as np\n",
    "import matplotlib.pyplot as plt\n",
    "\n",
    "import random  # Used for random number generation. \n",
    "\n",
    "import scipy.special  # Used for factorial calculations. \n",
    "import scipy.stats  # Used for distributions. "
   ]
  },
  {
   "cell_type": "markdown",
   "id": "47857e13",
   "metadata": {},
   "source": [
    "## Ilustrate the Law of Large Numbers (LLN)  [Called \"De relative frekvensernas stabilitet\" in the book p.14]\n",
    "1. Simulate 10000 dice throws. \n",
    "2. Plot the relative frequency of the number of times three dots occur for 1, 2, ..., 10000 throws.\n",
    "3. To what number does the relative frequency converge to? What is the probability of getting three dots when throwing a dice? Do these two numbers coincide?\n",
    "4. Explain what you observe. \n",
    "\n",
    "Make sure to create a good pedagogical plot, i.e. include title, x-label and y-label. "
   ]
  },
  {
   "cell_type": "markdown",
   "id": "9d75346e",
   "metadata": {},
   "source": [
    "**Hint: For step 1 use the random.choices() function. You should also create an empty list that you append with the relative frequencies for 1, 2, ... 10000 throws.**"
   ]
  },
  {
   "cell_type": "code",
   "execution_count": null,
   "id": "b9e1759e",
   "metadata": {},
   "outputs": [],
   "source": [
    "# Help about the random.choices function\n",
    "help(random.choices)\n",
    "\n",
    "print(random.choices([1, 2, 3, 4, 5, 6,], k=3))\n",
    "print(random.choices([1, 2, 3, 4, 5, 6,], k=10))"
   ]
  },
  {
   "cell_type": "code",
   "execution_count": null,
   "id": "bba3348d",
   "metadata": {},
   "outputs": [],
   "source": []
  },
  {
   "cell_type": "code",
   "execution_count": null,
   "id": "f2100fee",
   "metadata": {},
   "outputs": [],
   "source": []
  },
  {
   "cell_type": "code",
   "execution_count": null,
   "id": "772a18af",
   "metadata": {},
   "outputs": [],
   "source": []
  },
  {
   "cell_type": "markdown",
   "id": "aaec6d25",
   "metadata": {},
   "source": [
    "# Solve exercise 105 in the book. "
   ]
  },
  {
   "cell_type": "code",
   "execution_count": null,
   "id": "69d2be3b",
   "metadata": {},
   "outputs": [],
   "source": []
  },
  {
   "cell_type": "markdown",
   "id": "29656710",
   "metadata": {},
   "source": [
    "# Calculate 1!, 2!, ..., 12! . What is your conclusion regarding the growth of the factorial function?"
   ]
  },
  {
   "cell_type": "code",
   "execution_count": null,
   "id": "203915cb",
   "metadata": {},
   "outputs": [],
   "source": []
  },
  {
   "cell_type": "markdown",
   "id": "02f94d1d",
   "metadata": {},
   "source": [
    "# We know that the binomial coefficients can be used to calculate the number of ways to choose k elements from n without replacement when the order does not matter. We have the formula: $\\binom{n}{k} = \\frac{n!}{k!(n-k)!}$ .\n",
    "\n",
    "# Now calculate $\\binom{6}{2}$ with a built in function and then create your own function (you can use the built in factorial function) and verify that you get the same results. "
   ]
  },
  {
   "cell_type": "code",
   "execution_count": null,
   "id": "1d5a0829",
   "metadata": {},
   "outputs": [],
   "source": []
  },
  {
   "cell_type": "markdown",
   "id": "947137ff",
   "metadata": {},
   "source": [
    "# Read the following documentation, note the methods such as rvs, pmf, cdf. These are available for most of the distributions meaning \"once you know one of them, you know most\". "
   ]
  },
  {
   "cell_type": "markdown",
   "id": "22be65bf",
   "metadata": {},
   "source": [
    "https://docs.scipy.org/doc/scipy/reference/generated/scipy.stats.binom.html "
   ]
  },
  {
   "cell_type": "markdown",
   "id": "e65f516d",
   "metadata": {},
   "source": [
    "In general, for discrete distributions, the probability mass function *(also called density function)*, $p(X = x)$, calculates the probability that the random variable takes a specific value. The distribution function *(also called the cumulative distribution function)* $F(x) = P(X \\leq x)$ calculates the probability that a random variable is less than or equal to a value. Random number generation simply means that you generate random numbers from a distribution. The quantile function *(also called: Percent point function or inverse CDF)* we will skip for now and will learn more about that in later chapters. "
   ]
  },
  {
   "cell_type": "markdown",
   "id": "54e62ae1",
   "metadata": {},
   "source": [
    "# Solve exercise 307, 308, 309 in Python. "
   ]
  },
  {
   "cell_type": "code",
   "execution_count": null,
   "id": "1f6b0f3b",
   "metadata": {},
   "outputs": [],
   "source": []
  },
  {
   "cell_type": "markdown",
   "id": "3e163f15",
   "metadata": {},
   "source": [
    "# Solve exercise 314 in Python. "
   ]
  },
  {
   "cell_type": "code",
   "execution_count": null,
   "id": "fc81b666",
   "metadata": {},
   "outputs": [],
   "source": []
  },
  {
   "cell_type": "markdown",
   "id": "25a67094",
   "metadata": {},
   "source": [
    "# Simulate 10000 samples from bin(n= 100, p = 0.35) and plot a histogram. Then simulate 10000 samples from bin(n= 100, p = 0.9) and plot a histogram. In the plots, what is the \"middle\" of the plot? Which plot has a \"wider\" distribution?\n",
    "\n",
    "# What is the theoretical/true Expected Value and Variance of the two distributions? (see p.89 in the book for formulas.)\n",
    "\n",
    "# Calculate the mean and variance of the two samples that you simulated, use the functions np.mean() and np.var(). Explain your observations . "
   ]
  },
  {
   "cell_type": "code",
   "execution_count": null,
   "id": "60904e46",
   "metadata": {},
   "outputs": [],
   "source": [
    "x = scipy.stats.binom.rvs(100, 0.35, size = 10000)\n",
    "y = scipy.stats.binom.rvs(100, 0.9, size = 10000)"
   ]
  },
  {
   "cell_type": "code",
   "execution_count": null,
   "id": "f8bfb172",
   "metadata": {},
   "outputs": [],
   "source": []
  }
 ],
 "metadata": {
  "kernelspec": {
   "display_name": "Python 3 (ipykernel)",
   "language": "python",
   "name": "python3"
  },
  "language_info": {
   "codemirror_mode": {
    "name": "ipython",
    "version": 3
   },
   "file_extension": ".py",
   "mimetype": "text/x-python",
   "name": "python",
   "nbconvert_exporter": "python",
   "pygments_lexer": "ipython3",
   "version": "3.9.17"
  }
 },
 "nbformat": 4,
 "nbformat_minor": 5
}
