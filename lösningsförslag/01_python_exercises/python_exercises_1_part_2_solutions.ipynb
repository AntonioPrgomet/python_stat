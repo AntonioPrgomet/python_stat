{
 "cells": [
  {
   "cell_type": "markdown",
   "id": "22bd630d",
   "metadata": {},
   "source": [
    "# Python exercises 1 part 2/2\n",
    "The exercises are connected to the video available at: https://www.youtube.com/watch?v=M7bnYJyCx0Q from 1:02:20 to 1:14:59.\n",
    "\n",
    "When writing the solutions make sure the code is clear and readable. When providing comments, follow the general principle that you should comment \"why\" you are doing something and not \"what\", the \"what\" is seen by the code itself. "
   ]
  },
  {
   "cell_type": "markdown",
   "id": "c43aead3",
   "metadata": {},
   "source": [
    "# Classes"
   ]
  },
  {
   "cell_type": "markdown",
   "id": "a4c65db4",
   "metadata": {},
   "source": [
    "### Create a class \"GroceryStore\" with price and quantity instance attributes and then create a new instance swedish_apples whos price is 30 and quantity is 900. Once the instance is created, print out the two attributes. "
   ]
  },
  {
   "cell_type": "code",
   "execution_count": 1,
   "id": "b781fa3d",
   "metadata": {},
   "outputs": [],
   "source": [
    "class GroceryStore:\n",
    "    def __init__(self, price, quantity):\n",
    "        self.price = price\n",
    "        self.quantity = quantity"
   ]
  },
  {
   "cell_type": "code",
   "execution_count": 2,
   "id": "eb88870d",
   "metadata": {},
   "outputs": [
    {
     "name": "stdout",
     "output_type": "stream",
     "text": [
      "Price: 30\n",
      "Quantity: 900\n"
     ]
    }
   ],
   "source": [
    "swedish_apples = GroceryStore(30, 900)\n",
    "print('Price:', swedish_apples.price)\n",
    "print('Quantity:', swedish_apples.quantity)"
   ]
  },
  {
   "cell_type": "markdown",
   "id": "3dbc1438",
   "metadata": {},
   "source": [
    "### Create a child class \"Subsidiarie\" that will inherit all of the variables and methods of the \"GroceryStore\" class. Then create a new instance grapes whos price is 50 and quantity is 600. Finally, print out the two  attributes.\n",
    "Hint: Use the keyword \"pass\" when creating the class Subsidiarie."
   ]
  },
  {
   "cell_type": "code",
   "execution_count": 3,
   "id": "d0912fc6",
   "metadata": {},
   "outputs": [],
   "source": [
    "class Subsidiarie(GroceryStore):\n",
    "    pass"
   ]
  },
  {
   "cell_type": "code",
   "execution_count": 4,
   "id": "1a1dcd02",
   "metadata": {},
   "outputs": [
    {
     "name": "stdout",
     "output_type": "stream",
     "text": [
      "Price: 50\n",
      "Quantity: 600\n"
     ]
    }
   ],
   "source": [
    "grapes = Subsidiarie(50, 600)\n",
    "print('Price:', grapes.price)\n",
    "print('Quantity:', grapes.quantity)"
   ]
  },
  {
   "cell_type": "markdown",
   "id": "fa5b81f5",
   "metadata": {},
   "source": [
    "### Create a child class \"Competitor\" that will inherit all of the variables and methods of the \"GroceryStore\" class. The class should have a class variable called store_name = competitor_grocery_store. Create an instance danish_apples whos price is 28 and quantity 920. Print out both the instance variables (price and quantity) and the class variable store name."
   ]
  },
  {
   "cell_type": "code",
   "execution_count": 5,
   "id": "0e855eec",
   "metadata": {},
   "outputs": [],
   "source": [
    "class Competitor(GroceryStore):\n",
    "    store_name = 'competitor_grocery_store'"
   ]
  },
  {
   "cell_type": "code",
   "execution_count": 6,
   "id": "1983b4b8",
   "metadata": {},
   "outputs": [
    {
     "name": "stdout",
     "output_type": "stream",
     "text": [
      "Price: 28 Quantity: 920\n",
      "competitor_grocery_store\n"
     ]
    }
   ],
   "source": [
    "danish_apples = Competitor(28, 920)\n",
    "print('Price:', danish_apples.price, 'Quantity:', danish_apples.quantity)\n",
    "print(Competitor.store_name)"
   ]
  },
  {
   "cell_type": "markdown",
   "id": "ed508ef5",
   "metadata": {},
   "source": [
    "### Create a class \"GroceryStore_v2\" with price and quantity instance attributes and a class attribute called owner with the value \"Anna\" assigned to it. Add a method, customer_satisfaction that adds an instance attribute called \"grade\"  that can take values between 1-10, how do you make sure that the grade is between 1-10? Ideally, an exception is raised if grade is outside the allowed boundaries. The class should have a one line documentation string. \n",
    "\n",
    "### Create an instance \"lemons\" with price = 60, quantity = 100. Add a customer_satisfaction_grade that is 8.\n",
    "\n",
    "### Check the type of the lemons instance.\n",
    "\n",
    "### Check if lemons is an instance of the integer class (it should return False since lemons is an instance of GroceryStore_v2). Check if lemons is an instance of the GroceryStore_v2 class (should return True).\n",
    "\n",
    "### Print out the documentation string. "
   ]
  },
  {
   "cell_type": "code",
   "execution_count": 7,
   "id": "252af528",
   "metadata": {},
   "outputs": [],
   "source": [
    "class GroceryStore_v2:\n",
    "    \"\"\"Keeping track of owner, price, quantity and customer grades in our store.\"\"\"\n",
    "    owner = 'Anna'\n",
    "    \n",
    "    def __init__(self, price, quantity):\n",
    "        self.price = price\n",
    "        self.quantity = quantity\n",
    "        \n",
    "    def customer_satisfaction(self, grade):\n",
    "        if 1<=grade<=10:\n",
    "            self.grade = grade\n",
    "        else: \n",
    "            raise Exception('Please assign a grade argument between 1-10.')"
   ]
  },
  {
   "cell_type": "code",
   "execution_count": 8,
   "id": "e93faa46",
   "metadata": {},
   "outputs": [],
   "source": [
    "lemons = GroceryStore_v2(60, 100)\n",
    "lemons.customer_satisfaction(8)"
   ]
  },
  {
   "cell_type": "code",
   "execution_count": 9,
   "id": "dd63b7ba",
   "metadata": {},
   "outputs": [
    {
     "name": "stdout",
     "output_type": "stream",
     "text": [
      "Price: 60 Quantity: 100 Owner: Anna\n",
      "8\n"
     ]
    }
   ],
   "source": [
    "print('Price:', lemons.price, 'Quantity:', lemons.quantity, 'Owner:', lemons.owner)\n",
    "print(lemons.grade)"
   ]
  },
  {
   "cell_type": "code",
   "execution_count": 10,
   "id": "2fa54737",
   "metadata": {},
   "outputs": [
    {
     "name": "stdout",
     "output_type": "stream",
     "text": [
      "<class '__main__.GroceryStore_v2'>\n"
     ]
    }
   ],
   "source": [
    "print(type(lemons))"
   ]
  },
  {
   "cell_type": "code",
   "execution_count": 11,
   "id": "630357f3",
   "metadata": {},
   "outputs": [
    {
     "name": "stdout",
     "output_type": "stream",
     "text": [
      "False\n",
      "True\n"
     ]
    }
   ],
   "source": [
    "print(isinstance(lemons, int))\n",
    "print(isinstance(lemons, GroceryStore_v2))"
   ]
  },
  {
   "cell_type": "code",
   "execution_count": 12,
   "id": "8079f21e",
   "metadata": {
    "scrolled": true
   },
   "outputs": [
    {
     "name": "stdout",
     "output_type": "stream",
     "text": [
      "Keeping track of owner, price, quantity and customer grades in our store.\n"
     ]
    }
   ],
   "source": [
    "print(lemons.__doc__)"
   ]
  },
  {
   "cell_type": "markdown",
   "id": "ca0ae2ce",
   "metadata": {},
   "source": [
    "### Create a class Square whos instances has the attribute side_length. Add two methods, perimeter and area that calculates the perimeter and area respectively given the length of one side which is the only attribute that the class has. Create an instance my_square with the side length 8. Print out the perimeter and area of \"my_square\". "
   ]
  },
  {
   "cell_type": "code",
   "execution_count": 13,
   "id": "e2056aa0",
   "metadata": {},
   "outputs": [],
   "source": [
    "class Square():\n",
    "    def __init__(self, side_length):\n",
    "        self.side = side_length\n",
    "        \n",
    "    def perimeter(self):\n",
    "        return self.side*4\n",
    "    \n",
    "    def area(self):\n",
    "        return self.side*self.side"
   ]
  },
  {
   "cell_type": "code",
   "execution_count": 14,
   "id": "160f6048",
   "metadata": {},
   "outputs": [
    {
     "name": "stdout",
     "output_type": "stream",
     "text": [
      "Perimeter: 32\n",
      "Area: 64\n"
     ]
    }
   ],
   "source": [
    "my_square = Square(8)\n",
    "print('Perimeter:', my_square.perimeter())\n",
    "print('Area:', my_square.\n",
    "      area())"
   ]
  },
  {
   "cell_type": "markdown",
   "id": "f069a4a0",
   "metadata": {},
   "source": [
    "# Explain, in detail, with your own words what the \"DescriptiveStatistics\" class does."
   ]
  },
  {
   "cell_type": "code",
   "execution_count": 15,
   "id": "877dfc9b",
   "metadata": {},
   "outputs": [],
   "source": [
    "class DescriptiveStatistics():\n",
    "    \"\"\"This class provides functionality for calculating descriptive statistics from a list.\"\"\"\n",
    "    \n",
    "    def __init__(self):\n",
    "        self.data = []\n",
    "    \n",
    "    def add_data(self, data):\n",
    "        if isinstance(data, list):\n",
    "            self.data.extend(data)\n",
    "        else:\n",
    "            raise Exception('Only \"Lists\" are accepted as data.')\n",
    "            \n",
    "    def calc_sum(self):\n",
    "        return sum(self.data)\n",
    "    \n",
    "    def calc_nbr_of_elements(self):\n",
    "        return len(self.data)\n",
    "    \n",
    "    def calc_mean(self):\n",
    "        return (self.calc_sum())/(self.calc_nbr_of_elements())\n",
    "    \n",
    "    def print_summary(self):\n",
    "        print('Sum:', self.calc_sum())\n",
    "        print('Number of elements:', self.calc_nbr_of_elements())\n",
    "        print('Mean:', self.calc_mean())  "
   ]
  },
  {
   "cell_type": "code",
   "execution_count": 16,
   "id": "6257949c",
   "metadata": {},
   "outputs": [],
   "source": [
    "L = [1, 2, 1, 3, 5, 7, 4, 9, 10, 3, 2, 1, 6, 4, 3, 2, 1, 10, 9, 1, 8, 7, 3, 2, 1]\n",
    "my_data = DescriptiveStatistics()\n",
    "my_data.add_data(L)"
   ]
  },
  {
   "cell_type": "code",
   "execution_count": 17,
   "id": "2c039681",
   "metadata": {},
   "outputs": [
    {
     "data": {
      "text/plain": [
       "[1, 2, 1, 3, 5, 7, 4, 9, 10, 3, 2, 1, 6, 4, 3, 2, 1, 10, 9, 1, 8, 7, 3, 2, 1]"
      ]
     },
     "execution_count": 17,
     "metadata": {},
     "output_type": "execute_result"
    }
   ],
   "source": [
    "my_data.data"
   ]
  },
  {
   "cell_type": "code",
   "execution_count": 18,
   "id": "10f3eb3c",
   "metadata": {},
   "outputs": [
    {
     "name": "stdout",
     "output_type": "stream",
     "text": [
      "Sum: 105\n",
      "Number of elements: 25\n",
      "Mean: 4.2\n"
     ]
    }
   ],
   "source": [
    "print('Sum:', my_data.calc_sum())\n",
    "print('Number of elements:', my_data.calc_nbr_of_elements())\n",
    "print('Mean:', my_data.calc_mean())"
   ]
  },
  {
   "cell_type": "code",
   "execution_count": 19,
   "id": "f7345727",
   "metadata": {},
   "outputs": [
    {
     "name": "stdout",
     "output_type": "stream",
     "text": [
      "Sum: 105\n",
      "Number of elements: 25\n",
      "Mean: 4.2\n"
     ]
    }
   ],
   "source": [
    "my_data.print_summary()"
   ]
  },
  {
   "cell_type": "markdown",
   "id": "a55a2e6b",
   "metadata": {},
   "source": [
    "# Exceptions\n",
    "In the video: https://www.youtube.com/watch?v=M7bnYJyCx0Q from 1:09:18 to 1:14:59 Exceptions is covered. Now you shall explain: \n",
    "1. In your own words describe why catching exceptions can be useful.\n",
    "2. Create an example where you *catch* an exception. \n",
    "3. Create a function where you *raise* exceptions for different cases (it can be one or more). Why would you like to raise exceptions?"
   ]
  },
  {
   "cell_type": "markdown",
   "id": "fa13f3c1",
   "metadata": {},
   "source": [
    "1. By catching exceptions we can \"protect\" our code from stop running. "
   ]
  },
  {
   "cell_type": "code",
   "execution_count": 1,
   "id": "2e5db147",
   "metadata": {},
   "outputs": [],
   "source": [
    "# Question 2. \n",
    "def divisor_function(a, b):\n",
    "    try:\n",
    "        return a/b\n",
    "    except ZeroDivisionError:\n",
    "        print('Division by zero is not defined.')"
   ]
  },
  {
   "cell_type": "code",
   "execution_count": 2,
   "id": "6ea0cc4e",
   "metadata": {},
   "outputs": [
    {
     "name": "stdout",
     "output_type": "stream",
     "text": [
      "2.0\n",
      "Division by zero is not defined.\n"
     ]
    }
   ],
   "source": [
    "# No exception is raised.\n",
    "print(divisor_function(10,5))\n",
    "# Exception caught. \n",
    "divisor_function(10,0)"
   ]
  },
  {
   "cell_type": "code",
   "execution_count": 3,
   "id": "593051f8",
   "metadata": {},
   "outputs": [],
   "source": [
    "# Question 3. \n",
    "def check_interval(x, y):\n",
    "    \"\"\"x represents the left point and y the right point in an interval hence x should be smaller than y.\n",
    "    We also have as a condition that x should be greater than 5 and y should be smaller than 10.\n",
    "    \"\"\"\n",
    "    if x > y:\n",
    "        raise Exception('x should be smaller than y.')\n",
    "    else:\n",
    "        print('x is smaller than y as it should be.')\n",
    "    if x <= 5:\n",
    "        raise Exception('x should be greater than 5.')\n",
    "    else: \n",
    "        print('x is ok.')\n",
    "    if y >= 10:\n",
    "        raise Exception('y should be smaller than 10.')\n",
    "    else:\n",
    "        print('y is ok.')"
   ]
  },
  {
   "cell_type": "code",
   "execution_count": 4,
   "id": "dc2f798f",
   "metadata": {},
   "outputs": [
    {
     "name": "stdout",
     "output_type": "stream",
     "text": [
      "x is smaller than y as it should be.\n",
      "x is ok.\n",
      "y is ok.\n"
     ]
    }
   ],
   "source": [
    "check_interval(6,8)"
   ]
  },
  {
   "cell_type": "code",
   "execution_count": 5,
   "id": "7c870461",
   "metadata": {},
   "outputs": [
    {
     "ename": "Exception",
     "evalue": "x should be smaller than y.",
     "output_type": "error",
     "traceback": [
      "\u001b[1;31m---------------------------------------------------------------------------\u001b[0m",
      "\u001b[1;31mException\u001b[0m                                 Traceback (most recent call last)",
      "Input \u001b[1;32mIn [5]\u001b[0m, in \u001b[0;36m<cell line: 1>\u001b[1;34m()\u001b[0m\n\u001b[1;32m----> 1\u001b[0m \u001b[43mcheck_interval\u001b[49m\u001b[43m(\u001b[49m\u001b[38;5;241;43m7\u001b[39;49m\u001b[43m,\u001b[49m\u001b[43m \u001b[49m\u001b[38;5;241;43m5\u001b[39;49m\u001b[43m)\u001b[49m\n",
      "Input \u001b[1;32mIn [3]\u001b[0m, in \u001b[0;36mcheck_interval\u001b[1;34m(x, y)\u001b[0m\n\u001b[0;32m      3\u001b[0m \u001b[38;5;250m\u001b[39m\u001b[38;5;124;03m\"\"\"x represents the left point and y the right point in an interval hence x should be smaller than y.\u001b[39;00m\n\u001b[0;32m      4\u001b[0m \u001b[38;5;124;03mWe also have as a condition that x should be greater than 5 and y should be smaller than 10.\u001b[39;00m\n\u001b[0;32m      5\u001b[0m \u001b[38;5;124;03m\"\"\"\u001b[39;00m\n\u001b[0;32m      6\u001b[0m \u001b[38;5;28;01mif\u001b[39;00m x \u001b[38;5;241m>\u001b[39m y:\n\u001b[1;32m----> 7\u001b[0m     \u001b[38;5;28;01mraise\u001b[39;00m \u001b[38;5;167;01mException\u001b[39;00m(\u001b[38;5;124m'\u001b[39m\u001b[38;5;124mx should be smaller than y.\u001b[39m\u001b[38;5;124m'\u001b[39m)\n\u001b[0;32m      8\u001b[0m \u001b[38;5;28;01melse\u001b[39;00m:\n\u001b[0;32m      9\u001b[0m     \u001b[38;5;28mprint\u001b[39m(\u001b[38;5;124m'\u001b[39m\u001b[38;5;124mx is smaller than y as it should be.\u001b[39m\u001b[38;5;124m'\u001b[39m)\n",
      "\u001b[1;31mException\u001b[0m: x should be smaller than y."
     ]
    }
   ],
   "source": [
    "check_interval(7, 5)"
   ]
  },
  {
   "cell_type": "code",
   "execution_count": null,
   "id": "0ea4be12",
   "metadata": {},
   "outputs": [],
   "source": [
    "check_interval(2,8)"
   ]
  },
  {
   "cell_type": "code",
   "execution_count": null,
   "id": "813ac802",
   "metadata": {},
   "outputs": [],
   "source": [
    "check_interval(6,20)"
   ]
  },
  {
   "cell_type": "markdown",
   "id": "7485f9a6",
   "metadata": {},
   "source": [
    "# Read PEP8 available at: https://peps.python.org/pep-0008/ . Give a short summary of some things that you should have in your \"fingertips\". For example, how should variables or classes be named? How should you write a comment?"
   ]
  }
 ],
 "metadata": {
  "kernelspec": {
   "display_name": "Python 3 (ipykernel)",
   "language": "python",
   "name": "python3"
  },
  "language_info": {
   "codemirror_mode": {
    "name": "ipython",
    "version": 3
   },
   "file_extension": ".py",
   "mimetype": "text/x-python",
   "name": "python",
   "nbconvert_exporter": "python",
   "pygments_lexer": "ipython3",
   "version": "3.8.0"
  }
 },
 "nbformat": 4,
 "nbformat_minor": 5
}
