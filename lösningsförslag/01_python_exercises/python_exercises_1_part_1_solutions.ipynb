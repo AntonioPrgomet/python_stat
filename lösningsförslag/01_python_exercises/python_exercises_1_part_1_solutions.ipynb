{
 "cells": [
  {
   "cell_type": "markdown",
   "id": "f193e061",
   "metadata": {},
   "source": [
    "# Python exercises 1 part 1/2\n",
    "The exercises are connected to the video available at: https://www.youtube.com/watch?v=M7bnYJyCx0Q from 0:00 to 1:02:20.\n",
    "\n",
    "When writing the solutions make sure the code is clear and readable. When providing comments, follow the general principle that you should comment \"why\" you are doing something and not \"what\", the \"what\" is seen by the code itself. "
   ]
  },
  {
   "cell_type": "markdown",
   "id": "fca64927",
   "metadata": {},
   "source": [
    "### Add and multiply the two numbers below. "
   ]
  },
  {
   "cell_type": "code",
   "execution_count": 1,
   "id": "a904dc86",
   "metadata": {},
   "outputs": [],
   "source": [
    "nr1 = 5\n",
    "nr2 = 10"
   ]
  },
  {
   "cell_type": "code",
   "execution_count": 2,
   "id": "7089b529",
   "metadata": {},
   "outputs": [
    {
     "name": "stdout",
     "output_type": "stream",
     "text": [
      "15\n",
      "50\n"
     ]
    }
   ],
   "source": [
    "print(nr1 + nr2)\n",
    "print(nr1 * nr2)"
   ]
  },
  {
   "cell_type": "markdown",
   "id": "73a0e54d",
   "metadata": {},
   "source": [
    "# Lists"
   ]
  },
  {
   "cell_type": "markdown",
   "id": "86d1e9fb",
   "metadata": {},
   "source": [
    "### Extract the first and last element in the list."
   ]
  },
  {
   "cell_type": "code",
   "execution_count": 3,
   "id": "bcf3c7c7",
   "metadata": {},
   "outputs": [],
   "source": [
    "l = [1, 2, 3, 10, 15, 100]"
   ]
  },
  {
   "cell_type": "code",
   "execution_count": 4,
   "id": "80860570",
   "metadata": {},
   "outputs": [
    {
     "name": "stdout",
     "output_type": "stream",
     "text": [
      "1\n",
      "100\n",
      "100\n"
     ]
    }
   ],
   "source": [
    "print(l[0])\n",
    "\n",
    "print(l[-1])\n",
    "# Alternative 2 if you do not know about negative indexing. This alternative is worse than the first approach.\n",
    "print(l[(len(l)-1)])"
   ]
  },
  {
   "cell_type": "markdown",
   "id": "acd427da",
   "metadata": {},
   "source": [
    "### Check if the first and last number is the same in each list respectively. So, we expect the answer True in list_1 and False in list_2."
   ]
  },
  {
   "cell_type": "code",
   "execution_count": 5,
   "id": "191cc82d",
   "metadata": {},
   "outputs": [],
   "source": [
    "list_1 = [10, 20, 30, 40, 10]\n",
    "list_2 = [75, 65, 35, 75, 30]"
   ]
  },
  {
   "cell_type": "code",
   "execution_count": 6,
   "id": "b5b8d72d",
   "metadata": {},
   "outputs": [
    {
     "name": "stdout",
     "output_type": "stream",
     "text": [
      "True\n",
      "False\n"
     ]
    }
   ],
   "source": [
    "print(list_1[0] == list_1[-1])\n",
    "print(list_2[0] == list_2[-1])"
   ]
  },
  {
   "cell_type": "markdown",
   "id": "fbe9606a",
   "metadata": {},
   "source": [
    "### Replace the number 4567 in the list with the number 22. "
   ]
  },
  {
   "cell_type": "code",
   "execution_count": 7,
   "id": "c112096f",
   "metadata": {},
   "outputs": [],
   "source": [
    "replace_4567 = [100, 2, 4567, 5, 7]"
   ]
  },
  {
   "cell_type": "code",
   "execution_count": 8,
   "id": "06ee8796",
   "metadata": {},
   "outputs": [
    {
     "name": "stdout",
     "output_type": "stream",
     "text": [
      "[100, 2, 22, 5, 7]\n"
     ]
    }
   ],
   "source": [
    "replace_4567[2] = 22\n",
    "print(replace_4567)"
   ]
  },
  {
   "cell_type": "markdown",
   "id": "32fe337d",
   "metadata": {},
   "source": [
    "### Replace the two numbers 3 and 4 with 30 and 40 in one line of code  by using slicing. "
   ]
  },
  {
   "cell_type": "code",
   "execution_count": 9,
   "id": "9d3eecd6",
   "metadata": {},
   "outputs": [],
   "source": [
    "replace_two_numbers = [1, 2, 3, 4, 5]"
   ]
  },
  {
   "cell_type": "code",
   "execution_count": 10,
   "id": "0c1895f0",
   "metadata": {},
   "outputs": [
    {
     "name": "stdout",
     "output_type": "stream",
     "text": [
      "[1, 2, 30, 40, 5]\n"
     ]
    }
   ],
   "source": [
    "replace_two_numbers[2:4] = [30, 40]\n",
    "print(replace_two_numbers)"
   ]
  },
  {
   "cell_type": "markdown",
   "id": "1d595e27",
   "metadata": {},
   "source": [
    "### Print out the list below but in reverse order."
   ]
  },
  {
   "cell_type": "code",
   "execution_count": 11,
   "id": "6df7567f",
   "metadata": {},
   "outputs": [],
   "source": [
    "my_list = [1, 2, 3, 10, 15, 100]"
   ]
  },
  {
   "cell_type": "code",
   "execution_count": 12,
   "id": "5f2b7593",
   "metadata": {},
   "outputs": [
    {
     "name": "stdout",
     "output_type": "stream",
     "text": [
      "[100, 15, 10, 3, 2, 1]\n"
     ]
    }
   ],
   "source": [
    "print(my_list[::-1])"
   ]
  },
  {
   "cell_type": "markdown",
   "id": "54c58e8a",
   "metadata": {},
   "source": [
    "### Extract the following numbers with indexing or slicing:\n",
    "* The number 5 in the list within the list. \n",
    "* Extract the whole list [10, 12, 13, 5, 100].\n",
    "* Extract 12, 13, 5 in the list within the list\n",
    "* Extract the number 8888 with negative indexing.\n",
    "* Extract 1, 2, [10, 12, 13, 5, 100]."
   ]
  },
  {
   "cell_type": "code",
   "execution_count": 13,
   "id": "c12e313d",
   "metadata": {},
   "outputs": [],
   "source": [
    "list_containing_a_list = [1, 2, [10, 12, 13, 5, 100], 8888, 3, [1, 2, 3]]"
   ]
  },
  {
   "cell_type": "code",
   "execution_count": 14,
   "id": "ef370bbc",
   "metadata": {},
   "outputs": [
    {
     "name": "stdout",
     "output_type": "stream",
     "text": [
      "5\n",
      "[10, 12, 13, 5, 100]\n",
      "[12, 13, 5]\n",
      "8888\n",
      "[1, 2, [10, 12, 13, 5, 100]]\n"
     ]
    }
   ],
   "source": [
    "print(list_containing_a_list[2][3])\n",
    "print(list_containing_a_list[2])\n",
    "print(list_containing_a_list[2][1:4])\n",
    "print(list_containing_a_list[-3])\n",
    "print(list_containing_a_list[0:3])"
   ]
  },
  {
   "cell_type": "markdown",
   "id": "731a9e3e",
   "metadata": {},
   "source": [
    "### Append the empty list with the number 10 and the string 'Hello'. You should use the append method twice. "
   ]
  },
  {
   "cell_type": "code",
   "execution_count": 15,
   "id": "faecabaa",
   "metadata": {},
   "outputs": [],
   "source": [
    "empty_list_1 = []"
   ]
  },
  {
   "cell_type": "code",
   "execution_count": 16,
   "id": "0b599e7f",
   "metadata": {},
   "outputs": [
    {
     "name": "stdout",
     "output_type": "stream",
     "text": [
      "[10, 'Hello']\n"
     ]
    }
   ],
   "source": [
    "empty_list_1.append(10)\n",
    "empty_list_1.append('Hello')\n",
    "print(empty_list_1)"
   ]
  },
  {
   "cell_type": "markdown",
   "id": "bebb5618",
   "metadata": {},
   "source": [
    "### Append the empty list with the number 10 and the string 'Hello'. You should use the extend method once. "
   ]
  },
  {
   "cell_type": "code",
   "execution_count": 17,
   "id": "82e7301a",
   "metadata": {},
   "outputs": [],
   "source": [
    "empty_list_2 = []"
   ]
  },
  {
   "cell_type": "code",
   "execution_count": 18,
   "id": "75c085d5",
   "metadata": {},
   "outputs": [
    {
     "name": "stdout",
     "output_type": "stream",
     "text": [
      "[10, 'Hello']\n"
     ]
    }
   ],
   "source": [
    "empty_list_2.extend((10, 'Hello'))\n",
    "print(empty_list_2)"
   ]
  },
  {
   "cell_type": "markdown",
   "id": "539b730a",
   "metadata": {},
   "source": [
    "### Use list comprehension to create a new list from list_example, where each number is mulitplied by 10. You should only include the numbers between 4-8 where 4 and 8 is included."
   ]
  },
  {
   "cell_type": "code",
   "execution_count": 19,
   "id": "14300485",
   "metadata": {},
   "outputs": [],
   "source": [
    "list_example = [1, 2, 3, 4, 5, 6, 7, 8, 9, 10]"
   ]
  },
  {
   "cell_type": "code",
   "execution_count": 20,
   "id": "ec452ade",
   "metadata": {},
   "outputs": [
    {
     "name": "stdout",
     "output_type": "stream",
     "text": [
      "[40, 50, 60, 70, 80]\n"
     ]
    }
   ],
   "source": [
    "new_list = [x*10 for x in list_example if 4<=x<=8]\n",
    "print(new_list)"
   ]
  },
  {
   "cell_type": "markdown",
   "id": "49aa8bb4",
   "metadata": {},
   "source": [
    "### Concatenate the two lists below elementwise so you get a new list ['My', 'name', 'is', 'Antonio']. Hint: use the zip function. \n",
    "Expected output: [\"My\", \"name\", \"is\", \"Antonio\"]. "
   ]
  },
  {
   "cell_type": "code",
   "execution_count": 21,
   "id": "fde2701c",
   "metadata": {},
   "outputs": [],
   "source": [
    "list1 = [\"M\", \"na\", \"i\", \"Anto\"]\n",
    "list2 = [\"y\", \"me\", \"s\", \"nio\"]"
   ]
  },
  {
   "cell_type": "code",
   "execution_count": 22,
   "id": "f8f9d1bd",
   "metadata": {},
   "outputs": [
    {
     "name": "stdout",
     "output_type": "stream",
     "text": [
      "['My', 'name', 'is', 'Antonio']\n"
     ]
    }
   ],
   "source": [
    "L = [i + j for i, j in zip(list1, list2)]\n",
    "print(L)"
   ]
  },
  {
   "cell_type": "code",
   "execution_count": 23,
   "id": "d7214640",
   "metadata": {},
   "outputs": [
    {
     "name": "stdout",
     "output_type": "stream",
     "text": [
      "['My', 'name', 'is', 'Antonio']\n"
     ]
    }
   ],
   "source": [
    "L = []\n",
    "for i,j in zip(list1, list2):\n",
    "    L.append(i+j)\n",
    "\n",
    "print(L)"
   ]
  },
  {
   "cell_type": "markdown",
   "id": "56bf725b",
   "metadata": {},
   "source": [
    "# Tuples"
   ]
  },
  {
   "cell_type": "markdown",
   "id": "d389f5d9",
   "metadata": {},
   "source": [
    "### Unpack the tuple so that we get 4 new variables. "
   ]
  },
  {
   "cell_type": "code",
   "execution_count": 24,
   "id": "391422e9",
   "metadata": {},
   "outputs": [],
   "source": [
    "my_tuple = (10, 20, 30, 40)"
   ]
  },
  {
   "cell_type": "code",
   "execution_count": 25,
   "id": "965e2f1f",
   "metadata": {},
   "outputs": [
    {
     "name": "stdout",
     "output_type": "stream",
     "text": [
      "(10, 20, 30, 40)\n",
      "10\n",
      "20\n",
      "30\n",
      "40\n"
     ]
    }
   ],
   "source": [
    "a, b, c, d = my_tuple\n",
    "\n",
    "print(my_tuple)\n",
    "print(a)\n",
    "print(b)\n",
    "print(c)\n",
    "print(d)"
   ]
  },
  {
   "cell_type": "markdown",
   "id": "e3dbd7e3",
   "metadata": {},
   "source": [
    "### Explain with your own words what the code below containing two scenarios does. "
   ]
  },
  {
   "cell_type": "code",
   "execution_count": 26,
   "id": "9cd720b9",
   "metadata": {},
   "outputs": [
    {
     "name": "stdout",
     "output_type": "stream",
     "text": [
      "2\n",
      "4\n",
      "8\n",
      "16\n",
      "\n",
      "(3, 9, 27, 81)\n"
     ]
    }
   ],
   "source": [
    "def f(x): \n",
    "    return (x, x**2, x**3, x**4)\n",
    "\n",
    "# Scenario 1.\n",
    "x1, x2, x3, x4 = f(2)\n",
    "print(x1)\n",
    "print(x2)\n",
    "print(x3)\n",
    "print(x4)\n",
    "\n",
    "print()\n",
    "\n",
    "# Scenario 2.\n",
    "x = f(3)\n",
    "print(x)"
   ]
  },
  {
   "cell_type": "markdown",
   "id": "a1d0ad8c",
   "metadata": {},
   "source": [
    "### Count the number of times 24 occurs in the tupple. "
   ]
  },
  {
   "cell_type": "code",
   "execution_count": 27,
   "id": "da5e6047",
   "metadata": {},
   "outputs": [],
   "source": [
    "tuple_22 = 24, 2, 4, 24, 24, 5"
   ]
  },
  {
   "cell_type": "code",
   "execution_count": 28,
   "id": "5ffcf817",
   "metadata": {},
   "outputs": [
    {
     "data": {
      "text/plain": [
       "3"
      ]
     },
     "execution_count": 28,
     "metadata": {},
     "output_type": "execute_result"
    }
   ],
   "source": [
    "tuple_22.count(24)"
   ]
  },
  {
   "cell_type": "markdown",
   "id": "02b90433",
   "metadata": {},
   "source": [
    "### Swap the two tuples, i.e. t1 should be replaced by t2 and vice versa. "
   ]
  },
  {
   "cell_type": "code",
   "execution_count": 29,
   "id": "d0bf409a",
   "metadata": {},
   "outputs": [],
   "source": [
    "t1 = ('Python', 'MATLAB')\n",
    "t2 = ('R', 'Julia')"
   ]
  },
  {
   "cell_type": "code",
   "execution_count": 30,
   "id": "bbcf0304",
   "metadata": {},
   "outputs": [
    {
     "name": "stdout",
     "output_type": "stream",
     "text": [
      "('R', 'Julia')\n",
      "('Python', 'MATLAB')\n"
     ]
    }
   ],
   "source": [
    "t1, t2 = t2, t1\n",
    "print(t1)\n",
    "print(t2)"
   ]
  },
  {
   "cell_type": "markdown",
   "id": "f44bc333",
   "metadata": {},
   "source": [
    "# Dictionaries"
   ]
  },
  {
   "cell_type": "markdown",
   "id": "c59f5a5a",
   "metadata": {},
   "source": [
    "### We have two lists, use both of them to convert it to a dictionary. l1 should be the keys whereas l2 should be the values. Hint, use the zip function. "
   ]
  },
  {
   "cell_type": "code",
   "execution_count": 31,
   "id": "c22949bc",
   "metadata": {},
   "outputs": [],
   "source": [
    "l1 = [1, 2, 3]\n",
    "l2 = ['Python', 'C++', 'Java']"
   ]
  },
  {
   "cell_type": "code",
   "execution_count": 32,
   "id": "6e5512f3",
   "metadata": {
    "scrolled": true
   },
   "outputs": [
    {
     "name": "stdout",
     "output_type": "stream",
     "text": [
      "{1: 'Python', 2: 'C++', 3: 'Java'}\n",
      "<class 'dict'>\n"
     ]
    }
   ],
   "source": [
    "my_dict = dict(zip(l1, l2))\n",
    "print(my_dict)\n",
    "print(type(my_dict))"
   ]
  },
  {
   "cell_type": "markdown",
   "id": "08c24361",
   "metadata": {},
   "source": [
    "### Print out the value corresponding to the key \"1\"."
   ]
  },
  {
   "cell_type": "code",
   "execution_count": 33,
   "id": "64ed0f46",
   "metadata": {},
   "outputs": [],
   "source": [
    "dictionary = {0: 'Easy', 1: 'as', 2: 'ABC'}"
   ]
  },
  {
   "cell_type": "code",
   "execution_count": 34,
   "id": "663cc20b",
   "metadata": {},
   "outputs": [
    {
     "data": {
      "text/plain": [
       "'as'"
      ]
     },
     "execution_count": 34,
     "metadata": {},
     "output_type": "execute_result"
    }
   ],
   "source": [
    "dictionary[1]"
   ]
  },
  {
   "cell_type": "markdown",
   "id": "49657a9e",
   "metadata": {},
   "source": [
    "### Explain with your own words what the code does. "
   ]
  },
  {
   "cell_type": "code",
   "execution_count": 35,
   "id": "b31f3461",
   "metadata": {},
   "outputs": [],
   "source": [
    "def y(x):\n",
    "  y0 = x\n",
    "  y1 = x**2\n",
    "  y2 = x**3\n",
    "\n",
    "  return {'y0': y0, 'y1': y1 ,'y2': y2}"
   ]
  },
  {
   "cell_type": "code",
   "execution_count": 36,
   "id": "16e62182",
   "metadata": {},
   "outputs": [
    {
     "data": {
      "text/plain": [
       "4"
      ]
     },
     "execution_count": 36,
     "metadata": {},
     "output_type": "execute_result"
    }
   ],
   "source": [
    "y(2)['y1']"
   ]
  },
  {
   "cell_type": "markdown",
   "id": "018b60ac",
   "metadata": {},
   "source": [
    "# Sets"
   ]
  },
  {
   "cell_type": "markdown",
   "id": "e2b2b51c",
   "metadata": {},
   "source": [
    "### Create a set named my_set containing the items: Python, R, MATLAB, Julia, SAS, C.  "
   ]
  },
  {
   "cell_type": "code",
   "execution_count": 37,
   "id": "f28b08ff",
   "metadata": {},
   "outputs": [],
   "source": [
    "my_set = {'Python', 'R', 'MATLAB', 'Julia', 'SAS', 'C'}"
   ]
  },
  {
   "cell_type": "markdown",
   "id": "4b22140b",
   "metadata": {},
   "source": [
    "### Find all elements that are in atleast one of the sets. "
   ]
  },
  {
   "cell_type": "code",
   "execution_count": 38,
   "id": "59a5c7ef",
   "metadata": {},
   "outputs": [],
   "source": [
    "set_a = {1, 2, 99}\n",
    "set_b = {0, 100, 15, 765}"
   ]
  },
  {
   "cell_type": "code",
   "execution_count": 39,
   "id": "218a09bf",
   "metadata": {},
   "outputs": [
    {
     "data": {
      "text/plain": [
       "{0, 1, 2, 15, 99, 100, 765}"
      ]
     },
     "execution_count": 39,
     "metadata": {},
     "output_type": "execute_result"
    }
   ],
   "source": [
    "set_a.union(set_b)"
   ]
  },
  {
   "cell_type": "markdown",
   "id": "a7b6740f",
   "metadata": {},
   "source": [
    "### Find all the items that are in *both* lists and return those values in a list. "
   ]
  },
  {
   "cell_type": "code",
   "execution_count": 40,
   "id": "9a81165c",
   "metadata": {},
   "outputs": [],
   "source": [
    "l1 = ['Python', 'R', 'MATLAB', 'Julia']\n",
    "l2 = ['Python', 'Julia']"
   ]
  },
  {
   "cell_type": "code",
   "execution_count": 41,
   "id": "335c0f27",
   "metadata": {},
   "outputs": [
    {
     "name": "stdout",
     "output_type": "stream",
     "text": [
      "['Julia', 'Python']\n",
      "<class 'list'>\n"
     ]
    }
   ],
   "source": [
    "intersection = list(set(l1).intersection(set(l2)))\n",
    "print(intersection)\n",
    "print(type(intersection))"
   ]
  },
  {
   "cell_type": "markdown",
   "id": "8a79680b",
   "metadata": {},
   "source": [
    "### Find all the unique elements of the list. "
   ]
  },
  {
   "cell_type": "code",
   "execution_count": 42,
   "id": "b3564d41",
   "metadata": {},
   "outputs": [],
   "source": [
    "l = [1, 1, 2, 2, 3, 1, 2]"
   ]
  },
  {
   "cell_type": "code",
   "execution_count": 43,
   "id": "a1404842",
   "metadata": {},
   "outputs": [
    {
     "name": "stdout",
     "output_type": "stream",
     "text": [
      "{1, 2, 3}\n",
      "[1, 2, 3]\n"
     ]
    }
   ],
   "source": [
    "print(set(l))\n",
    "\n",
    "# If you would like to return the unique elements in a list this is easily done:\n",
    "print(list(set(l)))"
   ]
  },
  {
   "cell_type": "markdown",
   "id": "68969341",
   "metadata": {},
   "source": [
    "### Find all the elements that are in set_1 but not in set_2."
   ]
  },
  {
   "cell_type": "code",
   "execution_count": 44,
   "id": "4e1d29c9",
   "metadata": {},
   "outputs": [],
   "source": [
    "set_1 = {1, 2, 3, 4, 5, 6}\n",
    "set_2 = set([1, 3, 4])"
   ]
  },
  {
   "cell_type": "code",
   "execution_count": 45,
   "id": "fb6892b1",
   "metadata": {},
   "outputs": [
    {
     "data": {
      "text/plain": [
       "{2, 5, 6}"
      ]
     },
     "execution_count": 45,
     "metadata": {},
     "output_type": "execute_result"
    }
   ],
   "source": [
    "set_1.difference(set_2)"
   ]
  },
  {
   "cell_type": "markdown",
   "id": "38863120",
   "metadata": {},
   "source": [
    "# Iteration & Loops"
   ]
  },
  {
   "cell_type": "markdown",
   "id": "8e6bf0e5",
   "metadata": {},
   "source": [
    "### Print out all the elements in the list \"looping_list\" with a for loop."
   ]
  },
  {
   "cell_type": "code",
   "execution_count": 46,
   "id": "69039249",
   "metadata": {},
   "outputs": [],
   "source": [
    "looping_list = [0, 'a', 'b', [1, 2, 3], ('Python', 'R'), 55]"
   ]
  },
  {
   "cell_type": "code",
   "execution_count": 47,
   "id": "12f9a030",
   "metadata": {},
   "outputs": [
    {
     "name": "stdout",
     "output_type": "stream",
     "text": [
      "0\n",
      "a\n",
      "b\n",
      "[1, 2, 3]\n",
      "('Python', 'R')\n",
      "55\n"
     ]
    }
   ],
   "source": [
    "for i in looping_list:\n",
    "    print(i)"
   ]
  },
  {
   "cell_type": "markdown",
   "id": "f58c2b64",
   "metadata": {},
   "source": [
    "### Print out all the elements in the list \"looping_list\" and enumerate the iteration number."
   ]
  },
  {
   "cell_type": "code",
   "execution_count": 48,
   "id": "cb4b490c",
   "metadata": {},
   "outputs": [],
   "source": [
    "looping_list = [0, 'a', 'b', [1, 2, 3], ('Python', 'R'), 55]"
   ]
  },
  {
   "cell_type": "code",
   "execution_count": 49,
   "id": "c6cdac11",
   "metadata": {},
   "outputs": [
    {
     "name": "stdout",
     "output_type": "stream",
     "text": [
      "0 0\n",
      "1 a\n",
      "2 b\n",
      "3 [1, 2, 3]\n",
      "4 ('Python', 'R')\n",
      "5 55\n"
     ]
    }
   ],
   "source": [
    "for i, j in enumerate(looping_list):\n",
    "    print(i, j)"
   ]
  },
  {
   "cell_type": "markdown",
   "id": "296e1f3a",
   "metadata": {},
   "source": [
    "### Write a for loop to print out each letter in the string. "
   ]
  },
  {
   "cell_type": "code",
   "execution_count": 50,
   "id": "e3aae8b8",
   "metadata": {},
   "outputs": [],
   "source": [
    "for_string = 'Python!'"
   ]
  },
  {
   "cell_type": "code",
   "execution_count": 51,
   "id": "32187612",
   "metadata": {},
   "outputs": [
    {
     "name": "stdout",
     "output_type": "stream",
     "text": [
      "P\n",
      "y\n",
      "t\n",
      "h\n",
      "o\n",
      "n\n",
      "!\n"
     ]
    }
   ],
   "source": [
    "for i in for_string:\n",
    "    print(i)"
   ]
  },
  {
   "cell_type": "markdown",
   "id": "68a29b13",
   "metadata": {},
   "source": [
    "### Write a while loop to print out each letter in the string. "
   ]
  },
  {
   "cell_type": "code",
   "execution_count": 52,
   "id": "0fe72c4d",
   "metadata": {},
   "outputs": [],
   "source": [
    "while_string = 'Is Awesome!'"
   ]
  },
  {
   "cell_type": "code",
   "execution_count": 53,
   "id": "113e9ad6",
   "metadata": {},
   "outputs": [
    {
     "name": "stdout",
     "output_type": "stream",
     "text": [
      "I\n",
      "s\n",
      " \n",
      "A\n",
      "w\n",
      "e\n",
      "s\n",
      "o\n",
      "m\n",
      "e\n",
      "!\n"
     ]
    }
   ],
   "source": [
    "l = len(while_string)\n",
    "i = 0\n",
    "while i < l:\n",
    "    print(while_string[i])\n",
    "    i += 1"
   ]
  },
  {
   "cell_type": "markdown",
   "id": "84f69821",
   "metadata": {},
   "source": [
    "### Print the numbers 1, 2, ..., 10 with a while loop. "
   ]
  },
  {
   "cell_type": "code",
   "execution_count": 54,
   "id": "c61b6bc3",
   "metadata": {},
   "outputs": [
    {
     "name": "stdout",
     "output_type": "stream",
     "text": [
      "0\n",
      "1\n",
      "2\n",
      "3\n",
      "4\n",
      "5\n",
      "6\n",
      "7\n",
      "8\n",
      "9\n",
      "10\n"
     ]
    }
   ],
   "source": [
    "i = 0\n",
    "\n",
    "while i <= 10:\n",
    "    print(i)\n",
    "    i += 1"
   ]
  },
  {
   "cell_type": "markdown",
   "id": "38122cd9",
   "metadata": {},
   "source": [
    "### Print out all numbers that are divisible by 5 in the list \"numbers\". \n",
    "Hint: Use the modulo operator %. A number is divisible by 5 if the remainder after dividing by 5 is 0. "
   ]
  },
  {
   "cell_type": "code",
   "execution_count": 55,
   "id": "4a77126f",
   "metadata": {},
   "outputs": [
    {
     "name": "stdout",
     "output_type": "stream",
     "text": [
      "10\n",
      "20\n",
      "55\n"
     ]
    }
   ],
   "source": [
    "numbers = [10, 20, 34, 46, 55]\n",
    "\n",
    "for i in numbers: \n",
    "    if i%5 == 0:\n",
    "        print(i)"
   ]
  },
  {
   "cell_type": "markdown",
   "id": "097e4726",
   "metadata": {},
   "source": [
    "### Print the numbers 0, 5, 10, 15, 20 with a for-loop and using the range function."
   ]
  },
  {
   "cell_type": "code",
   "execution_count": 56,
   "id": "1c6d3370",
   "metadata": {},
   "outputs": [
    {
     "name": "stdout",
     "output_type": "stream",
     "text": [
      "0\n",
      "5\n",
      "10\n",
      "15\n",
      "20\n"
     ]
    }
   ],
   "source": [
    "for i in range(0, 25, 5):\n",
    "    print(i)"
   ]
  },
  {
   "cell_type": "markdown",
   "id": "fe281ab3",
   "metadata": {},
   "source": [
    "### Use a for loop to create a new list from list_example, where each number is mulitplied by 10. You should only include the numbers between 4-8 where 4 and 8 is included. (In general it is better to do this with list comprehension since it is more efficient but this is for exercise purpose.)"
   ]
  },
  {
   "cell_type": "code",
   "execution_count": 57,
   "id": "12303023",
   "metadata": {},
   "outputs": [],
   "source": [
    "list_example = [1, 2, 3, 4, 5, 6, 7, 8, 9, 10]"
   ]
  },
  {
   "cell_type": "code",
   "execution_count": 58,
   "id": "cf0adb31",
   "metadata": {},
   "outputs": [
    {
     "name": "stdout",
     "output_type": "stream",
     "text": [
      "[40, 50, 60, 70, 80]\n"
     ]
    }
   ],
   "source": [
    "L = []\n",
    "for i in list_example:\n",
    "    if 4<=i<=8:\n",
    "        L.append(i*10)\n",
    "        \n",
    "print(L)"
   ]
  },
  {
   "cell_type": "markdown",
   "id": "73fc584a",
   "metadata": {},
   "source": [
    "# Functions"
   ]
  },
  {
   "cell_type": "markdown",
   "id": "63236e09",
   "metadata": {},
   "source": [
    "### Create a function \"uppercase_converter\" that converts a string to uppercase. For example: uppercase_converter('hello') should return the value HELLO. "
   ]
  },
  {
   "cell_type": "code",
   "execution_count": 59,
   "id": "386afe0b",
   "metadata": {},
   "outputs": [],
   "source": [
    "def uppercase_converter(string):\n",
    "    return string.upper()"
   ]
  },
  {
   "cell_type": "code",
   "execution_count": 60,
   "id": "a42f49f1",
   "metadata": {},
   "outputs": [
    {
     "name": "stdout",
     "output_type": "stream",
     "text": [
      "HELLO\n",
      "<class 'str'>\n"
     ]
    }
   ],
   "source": [
    "print(uppercase_converter('hello'))\n",
    "print(type(uppercase_converter('hello')))"
   ]
  },
  {
   "cell_type": "markdown",
   "id": "9103f538",
   "metadata": {},
   "source": [
    "### Create a function that accepts two arguments and that returns the sum and subtraction of the numbers. "
   ]
  },
  {
   "cell_type": "code",
   "execution_count": 61,
   "id": "1dfbbcce",
   "metadata": {},
   "outputs": [
    {
     "data": {
      "text/plain": [
       "(15, 5)"
      ]
     },
     "execution_count": 61,
     "metadata": {},
     "output_type": "execute_result"
    }
   ],
   "source": [
    "def sum_and_add(x, y):\n",
    "    addition = x + y\n",
    "    subtraction = x - y\n",
    "    return (addition, subtraction)\n",
    "\n",
    "sum_and_add(10, 5)"
   ]
  },
  {
   "cell_type": "markdown",
   "id": "18c3c48a",
   "metadata": {},
   "source": [
    "### Create  a function that contains positional only, positional or keyword and finally keyword arguments only. Hint:\n",
    "**def f(pos_only_1, /, pos_or_kwd, *, kwd_only_1)** ."
   ]
  },
  {
   "cell_type": "code",
   "execution_count": 62,
   "id": "ef3c62ef",
   "metadata": {},
   "outputs": [],
   "source": [
    "def f(x1, /, x2, *, x3):\n",
    "    return x1 + x2 + x3"
   ]
  },
  {
   "cell_type": "code",
   "execution_count": 63,
   "id": "aa2759be",
   "metadata": {},
   "outputs": [
    {
     "name": "stdout",
     "output_type": "stream",
     "text": [
      "6\n"
     ]
    }
   ],
   "source": [
    "print(f(1, x2=2, x3=3))\n",
    "\n",
    "# Returns an error.\n",
    "# print(f(x1=2, x2=2, x3=3))"
   ]
  },
  {
   "cell_type": "markdown",
   "id": "a677a3a7",
   "metadata": {},
   "source": [
    "### Assign a different name to the function and call it through the new name."
   ]
  },
  {
   "cell_type": "code",
   "execution_count": 64,
   "id": "c3538cea",
   "metadata": {},
   "outputs": [
    {
     "data": {
      "text/plain": [
       "3"
      ]
     },
     "execution_count": 64,
     "metadata": {},
     "output_type": "execute_result"
    }
   ],
   "source": [
    "def my_sum_function(x1, x2):\n",
    "    return x1 + x2\n",
    "\n",
    "my_sum_function(1,2)"
   ]
  },
  {
   "cell_type": "code",
   "execution_count": 65,
   "id": "0e6ad9aa",
   "metadata": {},
   "outputs": [],
   "source": [
    "new_name = my_sum_function"
   ]
  },
  {
   "cell_type": "code",
   "execution_count": 66,
   "id": "c9c4d108",
   "metadata": {},
   "outputs": [
    {
     "name": "stdout",
     "output_type": "stream",
     "text": [
      "3\n",
      "6\n"
     ]
    }
   ],
   "source": [
    "print(new_name(1, 2))\n",
    "print(my_sum_function(2, 4))"
   ]
  },
  {
   "cell_type": "markdown",
   "id": "12e8be7b",
   "metadata": {},
   "source": [
    "### Write a function f that takes three arguments. The first two are numbers whereas the third is specifying wheter you want to multiply or add them. \n",
    "Example: \n",
    "\n",
    "f(2, 5, 'add') = 7\n",
    "\n",
    "f(2, 5, 'multiply') = 10\n",
    "\n",
    "f(2, 5, 'test') should return an error (raise an exception) and print out the message: Choose either \"add\" or \"multiply\" ."
   ]
  },
  {
   "cell_type": "code",
   "execution_count": 67,
   "id": "fb7ccc4e",
   "metadata": {},
   "outputs": [],
   "source": [
    "def f(num1, num2, add_or_multiply): \n",
    "    \"\"\"Add or multiply two numbers.\"\"\"\n",
    "    \n",
    "    if add_or_multiply not in ('add', 'multiply'):\n",
    "        raise Exception('Choose either \"add\" or \"multiply\". ')\n",
    "    elif add_or_multiply == 'add':\n",
    "        answer = num1 + num2\n",
    "    elif add_or_multiply == 'multiply':\n",
    "        answer = num1 * num2\n",
    "    \n",
    "    return answer"
   ]
  },
  {
   "cell_type": "code",
   "execution_count": 68,
   "id": "0fc076c3",
   "metadata": {},
   "outputs": [
    {
     "name": "stdout",
     "output_type": "stream",
     "text": [
      "7\n",
      "10\n"
     ]
    }
   ],
   "source": [
    "print(f(2, 5, 'add'))\n",
    "print(f(2, 5, 'multiply'))\n",
    "\n",
    "# print(f(2, 5, 'test'))"
   ]
  },
  {
   "cell_type": "markdown",
   "id": "5dc23d6b",
   "metadata": {},
   "source": [
    "### Run the program below and explain what it does."
   ]
  },
  {
   "cell_type": "code",
   "execution_count": 69,
   "id": "e0588bd9",
   "metadata": {},
   "outputs": [
    {
     "name": "stdout",
     "output_type": "stream",
     "text": [
      "What is your name dear stranger?Antonio\n",
      "Mom, I met a person whos name is: Antonio\n"
     ]
    }
   ],
   "source": [
    "name = input('What is your name dear stranger?')\n",
    "\n",
    "print('Mom, I met a person whos name is:', name)"
   ]
  },
  {
   "cell_type": "markdown",
   "id": "7d7d35c1",
   "metadata": {},
   "source": [
    "# General Exercises"
   ]
  },
  {
   "cell_type": "markdown",
   "id": "d8cdd732",
   "metadata": {},
   "source": [
    "### Check if the strings below is a palindrome meaning that if you reverse the string it is the same. \n",
    "Example: anna reversed is still anna meaning it is a palindrome. john reversed is nhoj meaning it is not a palindrome. "
   ]
  },
  {
   "cell_type": "code",
   "execution_count": 70,
   "id": "53b6d2bb",
   "metadata": {},
   "outputs": [],
   "source": [
    "string_1 = 'anna'\n",
    "string_2 = 'john'"
   ]
  },
  {
   "cell_type": "code",
   "execution_count": 71,
   "id": "4cc26f8e",
   "metadata": {},
   "outputs": [
    {
     "name": "stdout",
     "output_type": "stream",
     "text": [
      "It is a palindrome\n",
      "It is not a palindrome\n"
     ]
    }
   ],
   "source": [
    "# Checking string 1.\n",
    "if string_1 == string_1[::-1]:\n",
    "    print('It is a palindrome')\n",
    "else: \n",
    "    print('It is not a palindrome')\n",
    "    \n",
    "# Checking string 2.\n",
    "if string_2 == string_2[::-1]:\n",
    "    print('It is a palindrome')\n",
    "else: \n",
    "    print('It is not a palindrome')"
   ]
  },
  {
   "cell_type": "code",
   "execution_count": 72,
   "id": "8d4b63ac",
   "metadata": {},
   "outputs": [
    {
     "data": {
      "text/plain": [
       "'n'"
      ]
     },
     "execution_count": 72,
     "metadata": {},
     "output_type": "execute_result"
    }
   ],
   "source": [
    "string_1[-2]"
   ]
  },
  {
   "cell_type": "markdown",
   "id": "d8b71cd7",
   "metadata": {},
   "source": [
    "### Explain, with your own words, the difference between the two code blocks below. When would you prefer the respective method? Can you create two own examples when each method might be useful?"
   ]
  },
  {
   "cell_type": "code",
   "execution_count": 73,
   "id": "1fe19154",
   "metadata": {},
   "outputs": [],
   "source": [
    "number = 8"
   ]
  },
  {
   "cell_type": "markdown",
   "id": "59f195a4",
   "metadata": {},
   "source": [
    "https://stackoverflow.com/questions/9271712/difference-between-multiple-ifs-and-elifs"
   ]
  },
  {
   "cell_type": "code",
   "execution_count": 74,
   "id": "54b25f3b",
   "metadata": {},
   "outputs": [
    {
     "name": "stdout",
     "output_type": "stream",
     "text": [
      "Less than 10\n",
      "Less than 100\n"
     ]
    }
   ],
   "source": [
    "if number < 5:\n",
    "    print('Less than 5')\n",
    "if number < 10:\n",
    "    print('Less than 10')\n",
    "if number < 100:\n",
    "    print('Less than 100')"
   ]
  },
  {
   "cell_type": "code",
   "execution_count": 75,
   "id": "57e56cef",
   "metadata": {},
   "outputs": [
    {
     "name": "stdout",
     "output_type": "stream",
     "text": [
      "Less than 10\n"
     ]
    }
   ],
   "source": [
    "if number < 5:\n",
    "    print('Less than 5')\n",
    "elif number < 10:\n",
    "    print('Less than 10')\n",
    "elif number < 100:\n",
    "    print('Less than 100')"
   ]
  }
 ],
 "metadata": {
  "kernelspec": {
   "display_name": "Python 3 (ipykernel)",
   "language": "python",
   "name": "python3"
  },
  "language_info": {
   "codemirror_mode": {
    "name": "ipython",
    "version": 3
   },
   "file_extension": ".py",
   "mimetype": "text/x-python",
   "name": "python",
   "nbconvert_exporter": "python",
   "pygments_lexer": "ipython3",
   "version": "3.8.0"
  }
 },
 "nbformat": 4,
 "nbformat_minor": 5
}
